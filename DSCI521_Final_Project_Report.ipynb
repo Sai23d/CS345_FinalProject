{
  "cells": [
    {
      "cell_type": "markdown",
      "metadata": {
        "id": "view-in-github",
        "colab_type": "text"
      },
      "source": [
        "<a href=\"https://colab.research.google.com/github/Sai23d/CS345_FinalProject/blob/main/DSCI521_Final_Project_Report.ipynb\" target=\"_parent\"><img src=\"https://colab.research.google.com/assets/colab-badge.svg\" alt=\"Open In Colab\"/></a>"
      ]
    },
    {
      "cell_type": "markdown",
      "metadata": {
        "id": "gQOyYK9E7qoU"
      },
      "source": [
        "### College of Computing and Informatics, Drexel University\n",
        "### DSCI 521: Data Analysis and Interpretation\n",
        "---\n",
        "\n",
        "## Final Project Report\n",
        "\n",
        "## Project Title:\n",
        "\n",
        "## Student(s):\n",
        "\n",
        "## Date:\n",
        "---"
      ]
    },
    {
      "cell_type": "markdown",
      "metadata": {
        "id": "6mMpIyk672Ah"
      },
      "source": [
        "## Your project should include the following components:\n",
        "- Problem Definition: Define a clear problem or task to solve using data analysis techniques.\n",
        "\n",
        "- Dataset Selection: You must choose a dataset relevant to your interests or a specific domain. The dataset should be of sufficient size and complexity to demonstrate various data analysis techniques.\n",
        "\n",
        "- Exploratory Data Analysis (EDA): You need to perform thorough EDA on the dataset to understand its characteristics, identify patterns, missing values, outliers, and potential features for modeling.\n",
        "\n",
        "- Feature Engineering: Implement feature engineering for creating new features, transforming existing ones, or selecting relevant features.\n",
        "\n",
        "- Model Evaluation and Selection: Experiment with different data analysis algorithms and techniques. Evaluate the models using appropriate evaluation metrics\n",
        "\n",
        "- Conclusion: Discuss your findings and future work.\n",
        "\n",
        "## You should write the report with following characristics to ensure effective communication:\n",
        "- Visualization and Interpretation: You should use visulization throughout EDA, modeling, and evaluation to illustrate any insights.\n",
        "\n",
        "- Code and Implementation: Throughout the notebook, you must write well-structured and commented code.\n",
        "\n",
        "- Documentation and Presentation: Throughout the notebook, you must add comprehensive commentary text to explain plots and code snippets. Always provide interpretations and explanations to document your analyses and results."
      ]
    },
    {
      "cell_type": "markdown",
      "metadata": {
        "id": "oKZnMElj7qoW"
      },
      "source": [
        "### 1. Problem Definition\n",
        "---\n",
        "*(Define the problem that will be solved in this data analytics project.)*\n",
        "\n",
        "This project focuses on the key question:\n",
        "\n",
        "How do socioeconomic factors affect access to the internet and digital devices across U.S. communities? While we know that digital access is often worse in disadvantaged areas, this project uses recent data from the American Community Survey (ACS) 5-Year Estimates to measure these patterns more precisely.(2018-2022) We will: Identify areas (census tracts) with low digital access, such as households without internet or computers. Explore how factors like income, education, and housing costs relate to digital access. Build models to predict which communities are most likely to face digital exclusion and which factors matter most. Our goal is to better understand how inequality impacts digital access and provide useful insights for decision-makers working to close the digital gap."
      ]
    },
    {
      "cell_type": "code",
      "execution_count": null,
      "metadata": {
        "id": "MzLEXU-t7qoW"
      },
      "outputs": [],
      "source": []
    },
    {
      "cell_type": "markdown",
      "metadata": {
        "id": "jW-Znace7qoW"
      },
      "source": [
        "### 2. Data Sets\n",
        "---\n",
        "*(Describe the origin of the data sources. What is the format of the original data? How to access the data?)*\n",
        "\n",
        "The primary dataset used in this project comes from the American Community Survey (ACS) 5-Year Estimates, conducted by the U.S. Census Bureau. The ACS is an ongoing nationwide survey that collects detailed population and housing information from approximately 3.5 million addresses each year. The 5-year estimates aggregate data over five years to provide reliable statistics at small geographic levels such as census tracts and other geographic levels.\n",
        "\n",
        "In this project, we focus on variables related to:\n",
        "\n",
        "Digital access (e.g., internet subscriptions, device availability) Socioeconomic status (e.g., household income, education level, rent burden) Demographic context (e.g., total population, age, race) These data are widely used in policy planning, academic research, and social service allocation.\n",
        "\n",
        "Format of the Data: The ACS data are provided in multiple formats:\n",
        "\n",
        "CSV (Comma-Separated Values) files — for individual tables (e.g., B28002, B19013) API Access — via the U.S. Census Bureau API for automated querying\n",
        "\n",
        "Each dataset includes:\n",
        "\n",
        "A GEOID column (unique geographic identifier) Estimate and Margin of Error (MOE) columns for each variable Metadata, including variable labels and geographic definitions\n",
        "\n",
        "There are several ways to access ACS 5-Year Estimates:\n",
        "\n",
        "Census Bureau Website (https://www2.census.gov/programs-surveys/acs/summary_file/) Use the “Advanced Search” to filter by year, geographic level, and table ID (e.g., B28002 for internet access) Download selected tables as CSV files\n",
        "\n",
        "U.S. Census Bureau API Register for a free API key at https://api.census.gov/data/key_signup.html"
      ]
    },
    {
      "cell_type": "code",
      "execution_count": null,
      "metadata": {
        "id": "uvBASP9d7qoW"
      },
      "outputs": [],
      "source": [
        "# ======================================\n",
        "# American Community Survey (ACS) 5-Year Estimates\n",
        "# Project: Digital Divide in U.S. Communities\n",
        "# Year: 2018-2022\n",
        "# ======================================\n",
        "\n",
        "# -----------------------------\n",
        "# 0. Install required packages\n",
        "# -----------------------------\n",
        "!pip install census us pandas matplotlib seaborn scikit-learn\n",
        "\n",
        "# -----------------------------\n",
        "# 1. Import libraries\n",
        "# -----------------------------\n",
        "import pandas as pd\n",
        "import matplotlib.pyplot as plt\n",
        "import seaborn as sns\n",
        "from census import Census\n",
        "from us import states\n",
        "from sklearn.model_selection import train_test_split\n",
        "from sklearn.linear_model import LogisticRegression\n",
        "from sklearn.metrics import classification_report\n",
        "import numpy as np\n",
        "\n",
        "# -----------------------------\n",
        "# 2. Connect to the Census API\n",
        "# -----------------------------\n",
        "API_KEY = \"0b77d873815d425f3098f0c0aa6be4a000493aae\"\n",
        "c = Census(API_KEY)\n",
        "\n",
        "year = 2022  # ACS 5-Year Estimates (2018-2022)\n",
        "\n",
        "# -----------------------------\n",
        "# 3. Define variables to pull\n",
        "# -----------------------------\n",
        "variables = {\n",
        "    \"B28002_013E\": \"no_internet\",        # Households without internet\n",
        "    \"B28001_002E\": \"with_computer\",      # Households with computers\n",
        "    \"B19013_001E\": \"median_income\",      # Median household income\n",
        "    \"B15003_017E\": \"high_school\",        # High school grads\n",
        "    \"B15003_022E\": \"bachelors\",          # Bachelor's degree\n",
        "    \"B25070_001E\": \"gross_rent\",         # Rent burden (total households paying rent)\n",
        "    \"B01003_001E\": \"total_population\",   # Total population\n",
        "}\n",
        "\n",
        "# -----------------------------\n",
        "# 4. Pull data for all states and tracts\n",
        "# -----------------------------\n",
        "all_data = []\n",
        "\n",
        "for state in states.STATES:\n",
        "    print(f\"Fetching data for {state.name}...\")\n",
        "    try:\n",
        "        data = c.acs5.state_county_tract(\n",
        "            list(variables.keys()),\n",
        "            state.fips,\n",
        "            \"*\",  # all counties\n",
        "            \"*\",  # all tracts\n",
        "            year=year\n",
        "        )\n",
        "        all_data.extend(data)\n",
        "    except Exception as e:\n",
        "        print(f\"Error fetching {state.name}: {e}\")\n",
        "\n",
        "# Convert to DataFrame\n",
        "df = pd.DataFrame(all_data)\n",
        "\n",
        "# -----------------------------\n",
        "# 5. Create GEOID20 for unique tract ID\n",
        "# -----------------------------\n",
        "df['GEOID20'] = df['state'] + df['county'] + df['tract'].str.zfill(6)"
      ]
    },
    {
      "cell_type": "markdown",
      "metadata": {
        "id": "uY_PvC857qoX"
      },
      "source": [
        "### 3. Exploration and Feature Engineering\n",
        "---\n",
        "*(Describe and present any code and methods used for exploring and visualizing the data, including statistical analysis and examination of correlations between features. Perform feature engineering to support model development.)*"
      ]
    },
    {
      "cell_type": "code",
      "execution_count": null,
      "metadata": {
        "id": "B8K5gtxt7qoX"
      },
      "outputs": [],
      "source": []
    },
    {
      "cell_type": "markdown",
      "metadata": {
        "id": "52CLnHGw7qoX"
      },
      "source": [
        "### 4. Modeling and Evaluation\n",
        "---\n",
        "*(Describe and present the analytic models built on the data and evaluate the performance of the models for solving the problem)*"
      ]
    },
    {
      "cell_type": "code",
      "execution_count": null,
      "metadata": {
        "id": "t1fthHN27qoX"
      },
      "outputs": [],
      "source": []
    },
    {
      "cell_type": "markdown",
      "metadata": {
        "id": "REiq9oR57qoX"
      },
      "source": [
        "### 5. Conclusion\n",
        "---\n",
        "*(Briefly describe what you have done and what you discovered. Discuss any shortcomings of the process and results. Propose future work. **Finally, discuss the lessons learned from doing the project**.)*"
      ]
    },
    {
      "cell_type": "code",
      "execution_count": null,
      "metadata": {
        "id": "gCHTiT-u7qoX"
      },
      "outputs": [],
      "source": []
    },
    {
      "cell_type": "markdown",
      "metadata": {
        "id": "J5tOZ3Wm7qoX"
      },
      "source": [
        "### 6. References"
      ]
    },
    {
      "cell_type": "code",
      "execution_count": null,
      "metadata": {
        "id": "ZiMlqsKz7qoX"
      },
      "outputs": [],
      "source": []
    },
    {
      "cell_type": "markdown",
      "metadata": {
        "id": "1fIbMSMw7qoX"
      },
      "source": [
        "---\n",
        "# Use the following requirements for preparing your project:\n",
        "\n",
        "## DO NOT DELETE THE CELLS BELLOW"
      ]
    },
    {
      "cell_type": "markdown",
      "source": [
        "# Project Requirements\n",
        "\n",
        "This final project examines the level of knowledge the students have learned from the course. The following course outcomes will be checked against the content of the report:\n",
        "\n",
        "Upon successful completion of this course, a student will be able to:\n",
        "* observe and explore a variety of quantitative methods for data analysis;\n",
        "* understand methods’ evaluation techniques to interpret their output;\n",
        "* implement and evaluate methods to gain technical experience with data; and\n",
        "* reproducibly execute an analytic project and represent/communicate its results faithfully.\n",
        "\n",
        "** Marking will be foucsed on both presentation and content.**\n",
        "\n",
        "## Written Presentation Requirements\n",
        "The report will be judged on the basis of visual appearance, grammatical correctness, and quality of writing, as well as its contents. Please make sure that the text of your report is well-structured, using paragraphs, full sentences, and other features of well-written presentation.\n",
        "\n",
        "## Technical Content:\n",
        "* Is the problem well defined and described thoroughly?\n",
        "* Is the size and complexity of the data set used in this project comparable to that of the example data sets used in the lectures and assignments?\n",
        "* Did the report describe the charactriatics of the data?\n",
        "* Did the report describe the goals of the data analysis?\n",
        "* Did the analysis conduct exploratory analyses on the data?\n",
        "* Did the analysis build analysis models of the data and evaluated the performance of the models?\n",
        "* Overall, what is the rating of this project?"
      ],
      "metadata": {
        "id": "eG_kYs25sA9F"
      }
    },
    {
      "cell_type": "code",
      "execution_count": null,
      "metadata": {
        "id": "kYn3mvol7qoX"
      },
      "outputs": [],
      "source": []
    }
  ],
  "metadata": {
    "colab": {
      "provenance": [],
      "include_colab_link": true
    },
    "kernelspec": {
      "display_name": "Python 3 (ipykernel)",
      "language": "python",
      "name": "python3"
    },
    "language_info": {
      "codemirror_mode": {
        "name": "ipython",
        "version": 3
      },
      "file_extension": ".py",
      "mimetype": "text/x-python",
      "name": "python",
      "nbconvert_exporter": "python",
      "pygments_lexer": "ipython3",
      "version": "3.11.5"
    }
  },
  "nbformat": 4,
  "nbformat_minor": 0
}